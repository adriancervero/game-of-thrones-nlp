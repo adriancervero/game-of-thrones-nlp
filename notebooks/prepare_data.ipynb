{
 "cells": [
  {
   "cell_type": "code",
   "execution_count": 83,
   "id": "ab581633-13e1-45aa-9aee-f9aee26488db",
   "metadata": {},
   "outputs": [],
   "source": [
    "import pandas as pd\n",
    "import numpy as np\n",
    "from tqdm import tqdm"
   ]
  },
  {
   "cell_type": "markdown",
   "id": "8be41626-2c2a-4b58-81f0-2fa055a3a360",
   "metadata": {},
   "source": [
    "## Dataframe with script lines"
   ]
  },
  {
   "cell_type": "markdown",
   "id": "1db1457b-a470-4071-ae6a-31bf13c075a7",
   "metadata": {},
   "source": [
    "We are going to build a dataframe in which each row represents an script line. We will also define some characteristics such as the episode number, the season number and the character that says it.\n",
    "\\\n",
    "To do this, we will go through the text file with the script line by line and selecting only the information we are interested in."
   ]
  },
  {
   "cell_type": "code",
   "execution_count": 99,
   "id": "bfbadd4c-1f4f-48ec-85e1-2bc82639490f",
   "metadata": {},
   "outputs": [
    {
     "name": "stderr",
     "output_type": "stream",
     "text": [
      "100%|██████████| 67876/67876 [03:00<00:00, 375.47it/s]\n"
     ]
    },
    {
     "name": "stdout",
     "output_type": "stream",
     "text": [
      "CPU times: user 3min, sys: 748 ms, total: 3min 1s\n",
      "Wall time: 3min\n"
     ]
    },
    {
     "data": {
      "text/plain": [
       "(25058, 6)"
      ]
     },
     "execution_count": 99,
     "metadata": {},
     "output_type": "execute_result"
    }
   ],
   "source": [
    "%%time\n",
    "# Dataframe with sentences\n",
    "df = pd.DataFrame()\n",
    "scene_shift_keywords = ['scene shifts', 'cut to', '---']\n",
    "\n",
    "with open('../data/raw/script_raw.txt', 'r') as f:\n",
    "    \n",
    "    for line in tqdm(f.readlines()):\n",
    "\n",
    "        if line == \"\\n\":\n",
    "            continue\n",
    "        elif np.sum([keyword in line.lower() for keyword in scene_shift_keywords]) > 0:\n",
    "            current_scene += 1\n",
    "            \n",
    "        elif not line[0].isalpha() or line.endswith(']\\n'):\n",
    "            continue\n",
    "        \n",
    "        elif line.startswith('SEASON'):\n",
    "            current_season = line.split()[1]\n",
    "        elif line.startswith('EPISODE'):\n",
    "            episode_name = ' '.join(line.split()[3:])\n",
    "            current_episode = line.split()[1]\n",
    "            current_scene = 1\n",
    "\n",
    "        elif line.isupper():\n",
    "            current_scene += 1\n",
    "        elif ':' in line or '(' in line:\n",
    "            if '(' in line:\n",
    "                split_char = '('\n",
    "            else:\n",
    "                split_char = ':'\n",
    "                \n",
    "            character_name = line.split(split_char)[0]\n",
    "        \n",
    "            dialog = line.split(split_char)[1].replace('\\n', '')\n",
    "            if split_char == '(':\n",
    "                dialog = '(' + dialog\n",
    "            \n",
    "            \n",
    "            df = df.append({\n",
    "                'season':int(current_season),\n",
    "                'episode': int(current_episode),\n",
    "                'character': character_name,\n",
    "                'text': dialog,\n",
    "                'episode_name': episode_name,\n",
    "                'scene': current_scene,\n",
    "                }, ignore_index=True)\n",
    "            \n",
    "df['episode'] = df['episode'].astype(int)\n",
    "df['season'] = df['season'].astype(int)\n",
    "df['scene'] = df['scene'].astype(int)\n",
    "        \n",
    "            \n",
    "df.shape"
   ]
  },
  {
   "cell_type": "markdown",
   "id": "0833d912-fcb5-4b34-bd83-c1aea09d0118",
   "metadata": {},
   "source": [
    "## Load ratings and merge with dialogues dataframe"
   ]
  },
  {
   "cell_type": "code",
   "execution_count": 138,
   "id": "c3385ba5-8775-4fe7-80e2-9eb0c8617ace",
   "metadata": {},
   "outputs": [
    {
     "data": {
      "text/html": [
       "<div>\n",
       "<style scoped>\n",
       "    .dataframe tbody tr th:only-of-type {\n",
       "        vertical-align: middle;\n",
       "    }\n",
       "\n",
       "    .dataframe tbody tr th {\n",
       "        vertical-align: top;\n",
       "    }\n",
       "\n",
       "    .dataframe thead th {\n",
       "        text-align: right;\n",
       "    }\n",
       "</style>\n",
       "<table border=\"1\" class=\"dataframe\">\n",
       "  <thead>\n",
       "    <tr style=\"text-align: right;\">\n",
       "      <th></th>\n",
       "      <th>episode_name</th>\n",
       "      <th>rate</th>\n",
       "    </tr>\n",
       "  </thead>\n",
       "  <tbody>\n",
       "    <tr>\n",
       "      <th>0</th>\n",
       "      <td>Winter Is Coming</td>\n",
       "      <td>9.1</td>\n",
       "    </tr>\n",
       "    <tr>\n",
       "      <th>1</th>\n",
       "      <td>The Kingsroad</td>\n",
       "      <td>8.8</td>\n",
       "    </tr>\n",
       "    <tr>\n",
       "      <th>2</th>\n",
       "      <td>Lord Snow</td>\n",
       "      <td>8.7</td>\n",
       "    </tr>\n",
       "    <tr>\n",
       "      <th>3</th>\n",
       "      <td>Cripples, Bastards, and Broken Things</td>\n",
       "      <td>8.8</td>\n",
       "    </tr>\n",
       "    <tr>\n",
       "      <th>4</th>\n",
       "      <td>The Wolf and the Lion</td>\n",
       "      <td>9.1</td>\n",
       "    </tr>\n",
       "  </tbody>\n",
       "</table>\n",
       "</div>"
      ],
      "text/plain": [
       "                            episode_name  rate\n",
       "0                       Winter Is Coming   9.1\n",
       "1                          The Kingsroad   8.8\n",
       "2                              Lord Snow   8.7\n",
       "3  Cripples, Bastards, and Broken Things   8.8\n",
       "4                  The Wolf and the Lion   9.1"
      ]
     },
     "execution_count": 138,
     "metadata": {},
     "output_type": "execute_result"
    }
   ],
   "source": [
    "ratings = pd.read_csv('../data/raw/ratings.csv')\n",
    "ratings.head()"
   ]
  },
  {
   "cell_type": "code",
   "execution_count": 139,
   "id": "fd834c8f-5305-42a3-bd22-e5db2dd052b6",
   "metadata": {},
   "outputs": [],
   "source": [
    "df['episode_name'] = df['episode_name'].str.lower()\n",
    "ratings['episode_name'] = ratings['episode_name'].str.lower()"
   ]
  },
  {
   "cell_type": "code",
   "execution_count": 143,
   "id": "65674b0d-883e-4fe7-aab3-d33ecaf323a3",
   "metadata": {},
   "outputs": [
    {
     "data": {
      "text/html": [
       "<div>\n",
       "<style scoped>\n",
       "    .dataframe tbody tr th:only-of-type {\n",
       "        vertical-align: middle;\n",
       "    }\n",
       "\n",
       "    .dataframe tbody tr th {\n",
       "        vertical-align: top;\n",
       "    }\n",
       "\n",
       "    .dataframe thead th {\n",
       "        text-align: right;\n",
       "    }\n",
       "</style>\n",
       "<table border=\"1\" class=\"dataframe\">\n",
       "  <thead>\n",
       "    <tr style=\"text-align: right;\">\n",
       "      <th></th>\n",
       "      <th>character</th>\n",
       "      <th>episode</th>\n",
       "      <th>episode_name</th>\n",
       "      <th>scene</th>\n",
       "      <th>season</th>\n",
       "      <th>text</th>\n",
       "      <th>rate</th>\n",
       "    </tr>\n",
       "  </thead>\n",
       "  <tbody>\n",
       "    <tr>\n",
       "      <th>0</th>\n",
       "      <td>WAYMAR ROYCE</td>\n",
       "      <td>1</td>\n",
       "      <td>Winter Is Coming</td>\n",
       "      <td>1</td>\n",
       "      <td>1</td>\n",
       "      <td>What d’you expect? They’re savages. One lot s...</td>\n",
       "      <td>9.1</td>\n",
       "    </tr>\n",
       "    <tr>\n",
       "      <th>1</th>\n",
       "      <td>WILL</td>\n",
       "      <td>1</td>\n",
       "      <td>Winter Is Coming</td>\n",
       "      <td>1</td>\n",
       "      <td>1</td>\n",
       "      <td>I’ve never seen wildlings do a thing like thi...</td>\n",
       "      <td>9.1</td>\n",
       "    </tr>\n",
       "    <tr>\n",
       "      <th>2</th>\n",
       "      <td>WAYMAR ROYCE</td>\n",
       "      <td>1</td>\n",
       "      <td>Winter Is Coming</td>\n",
       "      <td>1</td>\n",
       "      <td>1</td>\n",
       "      <td>How close did you get?</td>\n",
       "      <td>9.1</td>\n",
       "    </tr>\n",
       "    <tr>\n",
       "      <th>3</th>\n",
       "      <td>WILL</td>\n",
       "      <td>1</td>\n",
       "      <td>Winter Is Coming</td>\n",
       "      <td>1</td>\n",
       "      <td>1</td>\n",
       "      <td>Close as any man would.</td>\n",
       "      <td>9.1</td>\n",
       "    </tr>\n",
       "    <tr>\n",
       "      <th>4</th>\n",
       "      <td>GARED</td>\n",
       "      <td>1</td>\n",
       "      <td>Winter Is Coming</td>\n",
       "      <td>1</td>\n",
       "      <td>1</td>\n",
       "      <td>We should head back to the wall.</td>\n",
       "      <td>9.1</td>\n",
       "    </tr>\n",
       "  </tbody>\n",
       "</table>\n",
       "</div>"
      ],
      "text/plain": [
       "      character  episode      episode_name  scene  season  \\\n",
       "0  WAYMAR ROYCE        1  Winter Is Coming      1       1   \n",
       "1          WILL        1  Winter Is Coming      1       1   \n",
       "2  WAYMAR ROYCE        1  Winter Is Coming      1       1   \n",
       "3          WILL        1  Winter Is Coming      1       1   \n",
       "4         GARED        1  Winter Is Coming      1       1   \n",
       "\n",
       "                                                text  rate  \n",
       "0   What d’you expect? They’re savages. One lot s...   9.1  \n",
       "1   I’ve never seen wildlings do a thing like thi...   9.1  \n",
       "2                             How close did you get?   9.1  \n",
       "3                            Close as any man would.   9.1  \n",
       "4                   We should head back to the wall.   9.1  "
      ]
     },
     "execution_count": 143,
     "metadata": {},
     "output_type": "execute_result"
    }
   ],
   "source": [
    "final_df = pd.merge(df, ratings, on='episode_name', how='left')\n",
    "final_df['episode_name'] = final_df['episode_name'].str.title()\n",
    "final_df.head()"
   ]
  },
  {
   "cell_type": "code",
   "execution_count": 146,
   "id": "5560f066-9f17-4514-b267-1f63840beaa5",
   "metadata": {},
   "outputs": [],
   "source": [
    "final_df.to_csv('../data/processed/got.csv', index=False)"
   ]
  }
 ],
 "metadata": {
  "kernelspec": {
   "display_name": "Python 3",
   "language": "python",
   "name": "python3"
  },
  "language_info": {
   "codemirror_mode": {
    "name": "ipython",
    "version": 3
   },
   "file_extension": ".py",
   "mimetype": "text/x-python",
   "name": "python",
   "nbconvert_exporter": "python",
   "pygments_lexer": "ipython3",
   "version": "3.8.10"
  }
 },
 "nbformat": 4,
 "nbformat_minor": 5
}
